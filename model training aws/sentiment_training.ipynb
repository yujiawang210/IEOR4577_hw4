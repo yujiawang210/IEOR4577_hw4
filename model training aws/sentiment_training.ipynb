{
 "cells": [
  {
   "cell_type": "code",
   "execution_count": 1,
   "metadata": {},
   "outputs": [],
   "source": [
    "# from platform import python_version\n",
    "# print(python_version())"
   ]
  },
  {
   "cell_type": "code",
   "execution_count": 2,
   "metadata": {},
   "outputs": [],
   "source": [
    "# !pip install tensorflow==1.13.1\n",
    "# !pip install Sequential\n",
    "# !pip install keras"
   ]
  },
  {
   "cell_type": "code",
   "execution_count": 3,
   "metadata": {},
   "outputs": [
    {
     "name": "stderr",
     "output_type": "stream",
     "text": [
      "Using TensorFlow backend.\n"
     ]
    }
   ],
   "source": [
    "import tensorflow as tf\n",
    "from tensorflow import data\n",
    "from tensorflow.data import Dataset\n",
    "\n",
    "from tensorflow import keras \n",
    "from keras.layers import Dense, Activation\n",
    "from keras.layers import Embedding\n",
    "from keras.layers import Conv1D, GlobalMaxPooling1D\n",
    "\n",
    "import os\n",
    "import json\n",
    "import math\n",
    "import numpy as np\n",
    "\n",
    "import sentiment_dataset as sentiment_dataset\n",
    "import sentiment_model_cnn as sentiment_model_cnn\n",
    "import config_holder as config_holder"
   ]
  },
  {
   "cell_type": "code",
   "execution_count": 4,
   "metadata": {},
   "outputs": [],
   "source": [
    "config_file = json.load(open('training_config.json', \"r\"))\n",
    "num_epoch= 10\n",
    "train_location = 's3://yujiawang/ieor4577-hw4/train data preprocessed'\n",
    "dev_location   = 's3://yujiawang/ieor4577-hw4/dev data preprocessed'\n",
    "eval_location = 's3://yujiawang/ieor4577-hw4/eval data preprocessed'\n",
    "model_output_dir = 's3://ieor4577-hw4/'"
   ]
  },
  {
   "cell_type": "code",
   "execution_count": 5,
   "metadata": {},
   "outputs": [
    {
     "name": "stdout",
     "output_type": "stream",
     "text": [
      "Preparing for training...\n",
      "Fetching train data...\n",
      "Fetching validation data...\n",
      "Fetching eval data...\n",
      "WARNING:tensorflow:From /home/ec2-user/anaconda3/envs/python3/lib/python3.6/site-packages/tensorflow/python/ops/resource_variable_ops.py:435: colocate_with (from tensorflow.python.framework.ops) is deprecated and will be removed in a future version.\n",
      "Instructions for updating:\n",
      "Colocations handled automatically by placer.\n",
      "Starting training...\n",
      "WARNING:tensorflow:From /home/ec2-user/anaconda3/envs/python3/lib/python3.6/site-packages/tensorflow/python/ops/math_ops.py:3066: to_int32 (from tensorflow.python.ops.math_ops) is deprecated and will be removed in a future version.\n",
      "Instructions for updating:\n",
      "Use tf.cast instead.\n",
      "WARNING:tensorflow:From /home/ec2-user/anaconda3/envs/python3/lib/python3.6/site-packages/tensorflow/python/ops/math_grad.py:102: div (from tensorflow.python.ops.math_ops) is deprecated and will be removed in a future version.\n",
      "Instructions for updating:\n",
      "Deprecated in favor of operator or tf.math.divide.\n",
      "Epoch 1/10\n",
      "50/50 [==============================] - 1s 15ms/step - loss: 0.6916 - acc: 0.5246 - val_loss: 0.6886 - val_acc: 0.5246\n",
      "Epoch 2/10\n",
      "50/50 [==============================] - 0s 5ms/step - loss: 0.6711 - acc: 0.5535 - val_loss: 0.6290 - val_acc: 0.6731\n",
      "Epoch 3/10\n",
      "50/50 [==============================] - 0s 6ms/step - loss: 0.5764 - acc: 0.7449 - val_loss: 0.5203 - val_acc: 0.8193\n",
      "Epoch 4/10\n",
      "50/50 [==============================] - 0s 6ms/step - loss: 0.4736 - acc: 0.8262 - val_loss: 0.4122 - val_acc: 0.8417\n",
      "Epoch 5/10\n",
      "50/50 [==============================] - 0s 6ms/step - loss: 0.3792 - acc: 0.8441 - val_loss: 0.3379 - val_acc: 0.8539\n",
      "Epoch 6/10\n",
      "50/50 [==============================] - 0s 6ms/step - loss: 0.3239 - acc: 0.8615 - val_loss: 0.2976 - val_acc: 0.8720\n",
      "Epoch 7/10\n",
      "50/50 [==============================] - 0s 6ms/step - loss: 0.2910 - acc: 0.8769 - val_loss: 0.2636 - val_acc: 0.8914\n",
      "Epoch 8/10\n",
      "50/50 [==============================] - 0s 6ms/step - loss: 0.2679 - acc: 0.8908 - val_loss: 0.2552 - val_acc: 0.8933\n",
      "Epoch 9/10\n",
      "50/50 [==============================] - 0s 6ms/step - loss: 0.2508 - acc: 0.8957 - val_loss: 0.2337 - val_acc: 0.9072\n",
      "Epoch 10/10\n",
      "50/50 [==============================] - 0s 6ms/step - loss: 0.2455 - acc: 0.8957 - val_loss: 0.2278 - val_acc: 0.9102\n",
      "Test loss:0.22779555082321168\n",
      "Test accuracy:0.9102486371994019\n"
     ]
    }
   ],
   "source": [
    "print(\"Preparing for training...\")\n",
    "\n",
    "training_config = config_file\n",
    "\n",
    "training_config[\"num_epoch\"] = num_epoch\n",
    "\n",
    "train_dataset = sentiment_dataset.train_input_fn(train_location, training_config)\n",
    "validation_dataset = sentiment_dataset.validation_input_fn(dev_location, training_config)\n",
    "eval_dataset = sentiment_dataset.eval_input_fn(eval_location, training_config)\n",
    "\n",
    "model = sentiment_model_cnn.keras_model_fn(None, training_config)\n",
    "\n",
    "print(\"Starting training...\")\n",
    "validation_dataset[1]\n",
    "model.fit(\n",
    "    x=train_dataset[0], y=train_dataset[1], steps_per_epoch=train_dataset[2][\"num_batches\"],\n",
    "    epochs=training_config[\"num_epoch\"],\n",
    "    validation_data=(validation_dataset[0], validation_dataset[1]),\n",
    "    validation_steps=int(validation_dataset[2][\"num_batches\"]))\n",
    "\n",
    "score = model.evaluate(\n",
    "    eval_dataset[0], eval_dataset[1], steps=eval_dataset[2][\"num_batches\"], verbose=0)\n",
    "\n",
    "print(\"Test loss:{}\".format(score[0]))\n",
    "print(\"Test accuracy:{}\".format(score[1]))"
   ]
  },
  {
   "cell_type": "code",
   "execution_count": 6,
   "metadata": {},
   "outputs": [
    {
     "name": "stdout",
     "output_type": "stream",
     "text": [
      "Model successfully saved\n"
     ]
    }
   ],
   "source": [
    "sentiment_model_cnn.save_model(model)"
   ]
  }
 ],
 "metadata": {
  "kernelspec": {
   "display_name": "conda_python3",
   "language": "python",
   "name": "conda_python3"
  },
  "language_info": {
   "codemirror_mode": {
    "name": "ipython",
    "version": 3
   },
   "file_extension": ".py",
   "mimetype": "text/x-python",
   "name": "python",
   "nbconvert_exporter": "python",
   "pygments_lexer": "ipython3",
   "version": "3.6.5"
  }
 },
 "nbformat": 4,
 "nbformat_minor": 4
}
